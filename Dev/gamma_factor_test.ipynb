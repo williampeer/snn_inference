{
 "cells": [
  {
   "cell_type": "code",
   "execution_count": 14,
   "metadata": {
    "collapsed": true
   },
   "outputs": [
    {
     "name": "stderr",
     "output_type": "stream",
     "text": [
      "WARNING    \"E_L\" is an internal variable of group \"neurongroup_2\", but also exists in the run namespace with the value -65. * mvolt. The internal variable will be used. [brian2.groups.group.Group.resolve.resolution_conflict]\n"
     ]
    },
    {
     "name": "stdout",
     "output_type": "stream",
     "text": [
      "num of spikes1: 102\n",
      "num of spikes2: 108\n",
      "gamma factor the same spike train: 0.08253968253968269\n"
     ]
    }
   ],
   "source": [
    "from brian2 import *\n",
    "from gf_metric import *\n",
    "\n",
    "start_scope()\n",
    "tau = 1*ms\n",
    "\n",
    "# Parameters\n",
    "R_m = 1*ohm\n",
    "eqs_LIF = '''\n",
    "dv/dt = (E_L - v + R_m * I)/tau : volt\n",
    "I : amp\n",
    "E_L : volt\n",
    "'''\n",
    "\n",
    "N = 3\n",
    "LIF_grp1 = NeuronGroup(N, eqs_LIF, threshold='v>30*mV', reset='v=E_L', method='euler')\n",
    "spikemon1 = SpikeMonitor(LIF_grp1[:3], 'v', record=True)\n",
    "\n",
    "LIF_grp2 = NeuronGroup(N, eqs_LIF, threshold='v>30*mV', reset='v=E_L', method='euler')\n",
    "spikemon2 = SpikeMonitor(LIF_grp2[:3], 'v', record=True)\n",
    "\n",
    "LIF_grp1.I = 100*mA\n",
    "LIF_grp1.E_L = -65.*mV\n",
    "\n",
    "LIF_grp2.I = 90*mA\n",
    "LIF_grp2.E_L = -55.*mV\n",
    "\n",
    "time = 100*ms\n",
    "\n",
    "run(time)\n",
    "print('num of spikes1:', spikemon1.num_spikes)\n",
    "print('num of spikes2:', spikemon2.num_spikes)\n",
    "\n",
    "sut = compute_gamma_factor(spikemon1, spikemon2, time=time, delta=5*ms, rate_correction=True)\n",
    "print('gamma factor the same spike train:', sut)"
   ]
  }
 ],
 "metadata": {
  "kernelspec": {
   "display_name": "Python 3",
   "language": "python",
   "name": "python3"
  },
  "language_info": {
   "codemirror_mode": {
    "name": "ipython",
    "version": 2
   },
   "file_extension": ".py",
   "mimetype": "text/x-python",
   "name": "python",
   "nbconvert_exporter": "python",
   "pygments_lexer": "ipython2",
   "version": "2.7.6"
  }
 },
 "nbformat": 4,
 "nbformat_minor": 0
}